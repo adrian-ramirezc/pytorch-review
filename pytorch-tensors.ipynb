{
 "cells": [
  {
   "cell_type": "markdown",
   "metadata": {},
   "source": [
    "# PyTorch \n",
    "\n",
    "PyTorch is an optimized tensor library for deep learning using GPUs and CPUs.\n",
    "- Documentation: https://pytorch.org/docs/stable/index.html"
   ]
  },
  {
   "cell_type": "markdown",
   "metadata": {},
   "source": [
    "## TORCH\n",
    "The torch package contains data structures for multi-dimensional tensors and defines mathematical operations over these tensors. Additionally, it provides many utilities for efficient serializing of Tensors and arbitrary types, and other useful utilities."
   ]
  },
  {
   "cell_type": "markdown",
   "metadata": {},
   "source": [
    "### Create tensors\n",
    "- how to create them\n",
    "- check their shape\n",
    "- reshape them"
   ]
  },
  {
   "cell_type": "code",
   "execution_count": 18,
   "metadata": {},
   "outputs": [
    {
     "name": "stdout",
     "output_type": "stream",
     "text": [
      "a*b = tensor([10.,  3.])\n",
      "\n",
      "c = tensor([[0., 0., 0.],\n",
      "        [0., 0., 0.],\n",
      "        [0., 0., 0.]])\n",
      "c shape is torch.Size([3, 3])\n",
      "\n",
      "d = tensor([[0.6667, 0.6194, 0.2263, 0.8168, 0.7168],\n",
      "        [0.8035, 0.7866, 0.3647, 0.4204, 0.2844]])\n",
      "d reshaped = tensor([[0.6667, 0.6194],\n",
      "        [0.2263, 0.8168],\n",
      "        [0.7168, 0.8035],\n",
      "        [0.7866, 0.3647],\n",
      "        [0.4204, 0.2844]])\n",
      "\n"
     ]
    }
   ],
   "source": [
    "import torch\n",
    "\n",
    "a = torch.Tensor([5,3])\n",
    "b = torch.Tensor([2,1])\n",
    "print(f'a*b = {a*b}')\n",
    "print(\"\")\n",
    "\n",
    "c = torch.zeros([3,3])\n",
    "print(f'c = {c}')\n",
    "print(f'c shape is {c.shape}')\n",
    "print(\"\")\n",
    "\n",
    "d = torch.rand([2,5])\n",
    "print(f'd = {d}')\n",
    "d = d.view([5,-1])\n",
    "print(f'd reshaped = {d}')\n",
    "print(\"\")"
   ]
  }
 ],
 "metadata": {
  "interpreter": {
   "hash": "88f611f6ea6cd74939d7b3949f72fcb0438a4e53f46e548f8b293cd3c259247d"
  },
  "kernelspec": {
   "display_name": "Python 3.9.10 ('venv')",
   "language": "python",
   "name": "python3"
  },
  "language_info": {
   "codemirror_mode": {
    "name": "ipython",
    "version": 3
   },
   "file_extension": ".py",
   "mimetype": "text/x-python",
   "name": "python",
   "nbconvert_exporter": "python",
   "pygments_lexer": "ipython3",
   "version": "3.9.10"
  },
  "orig_nbformat": 4
 },
 "nbformat": 4,
 "nbformat_minor": 2
}
