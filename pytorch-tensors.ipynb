{
 "cells": [
  {
   "cell_type": "markdown",
   "metadata": {},
   "source": [
    "# PyTorch \n",
    "\n",
    "PyTorch is an optimized tensor library for deep learning using GPUs and CPUs.\n",
    "- Documentation: https://pytorch.org/docs/stable/index.html"
   ]
  },
  {
   "cell_type": "markdown",
   "metadata": {},
   "source": [
    "## TORCH\n",
    "The torch package contains data structures for multi-dimensional tensors and defines mathematical operations over these tensors. Additionally, it provides many utilities for efficient serializing of Tensors and arbitrary types, and other useful utilities."
   ]
  },
  {
   "cell_type": "markdown",
   "metadata": {},
   "source": [
    "### Tensors\n",
    "- how to create them\n",
    "- check their shape\n",
    "- reshape them"
   ]
  },
  {
   "cell_type": "code",
   "execution_count": 17,
   "metadata": {},
   "outputs": [
    {
     "name": "stdout",
     "output_type": "stream",
     "text": [
      "The tensor is:\n",
      " tensor([[ 0.,  1.,  2.,  3.,  4.,  5.,  6.,  7.,  8.,  9.],\n",
      "        [10., 11., 12., 13., 14., 15., 15., 17., 18., 19.]])\n",
      "\n",
      "The shape of the tensor is:\n",
      " torch.Size([2, 10])\n",
      "\n",
      "The rank of the tensor is:\n",
      " 2\n",
      "\n",
      "Tensor reshaped:\n",
      " tensor([[[ 0.,  1.,  2.,  3.,  4.]],\n",
      "\n",
      "        [[ 5.,  6.,  7.,  8.,  9.]],\n",
      "\n",
      "        [[10., 11., 12., 13., 14.]],\n",
      "\n",
      "        [[15., 15., 17., 18., 19.]]])\n",
      "\n",
      "a*b = tensor([10.,  3.])\n",
      "\n",
      "c = tensor([[0., 0., 0.],\n",
      "        [0., 0., 0.],\n",
      "        [0., 0., 0.]])\n",
      "c shape is torch.Size([3, 3])\n",
      "d = tensor([[0.8687, 0.9379, 0.2478, 0.7329, 0.2808],\n",
      "        [0.8798, 0.2033, 0.9578, 0.1192, 0.0248]])\n",
      "d reshaped = tensor([[0.8687, 0.9379],\n",
      "        [0.2478, 0.7329],\n",
      "        [0.2808, 0.8798],\n",
      "        [0.2033, 0.9578],\n",
      "        [0.1192, 0.0248]])\n"
     ]
    }
   ],
   "source": [
    "import torch\n",
    "import numpy as np \n",
    "\n",
    "x = torch.Tensor(np.array([[0,1,2,3,4,5,6,7,8,9],[10,11,12,13,14,15,15,17,18, 19]]))\n",
    "\n",
    "print(f'The tensor is:\\n {x}\\n')\n",
    "print(f'The shape of the tensor is:\\n {x.shape}\\n')\n",
    "print(f'The rank of the tensor is:\\n {len(x.shape)}\\n')\n",
    "print(f'Tensor reshaped:\\n {x.reshape(4,1,-1)}\\n')\n",
    "\n",
    "a = torch.Tensor([5,3])\n",
    "b = torch.Tensor([2,1])\n",
    "print(f'a*b = {a*b}\\n')\n",
    "\n",
    "c = torch.zeros([3,3])\n",
    "print(f'c = {c}')\n",
    "print(f'c shape is {c.shape}')\n",
    "\n",
    "d = torch.rand([2,5])\n",
    "print(f'd = {d}')\n",
    "d = d.view([5,-1])\n",
    "print(f'd reshaped = {d}')\n"
   ]
  },
  {
   "cell_type": "markdown",
   "metadata": {},
   "source": [
    "## Shape of a CNN input\n",
    "\n",
    "The shape of a CNN input typically has a length of four. This means that we have a rank-4 tensor with four axes.\n",
    "\n",
    "[ B, C, H, W ]:[Batch, Channels, Height, Width]\n",
    "\n",
    "- B: Image batches\n",
    "- C: Typical values here are 3 for RGB images or 1 if we are working with grayscale images.\n",
    "- H: Image height\n",
    "- W: Image width\n",
    "\n",
    "link：https://www.jianshu.com/p/c47358d70d01"
   ]
  },
  {
   "cell_type": "markdown",
   "metadata": {},
   "source": [
    "### Operations between tensors \n",
    "- They have to be allocated in the same device (cpu, gpu)"
   ]
  },
  {
   "cell_type": "code",
   "execution_count": 40,
   "metadata": {},
   "outputs": [
    {
     "name": "stdout",
     "output_type": "stream",
     "text": [
      "x dtype: torch.int64, located in cpu\n",
      "y dtype: torch.float32, located in cpu\n",
      "z dtype: torch.float64, located in cpu\n",
      "tensor([10.0000,  9.5000])\n",
      "no problems!\n"
     ]
    }
   ],
   "source": [
    "x = torch.tensor([2,5])\n",
    "y = torch.tensor([8.0,4.5])\n",
    "z = torch.tensor([1,1], dtype = torch.float64)\n",
    "\n",
    "print(f'x dtype: {x.dtype}, located in {x.device}')\n",
    "print(f'y dtype: {y.dtype}, located in {y.device}')\n",
    "print(f'z dtype: {z.dtype}, located in {z.device}')\n",
    "\n",
    "try: \n",
    "    print(x + y)\n",
    "    print(\"no problems!\")\n",
    "except Exception as e:\n",
    "    print(e) \n"
   ]
  },
  {
   "cell_type": "code",
   "execution_count": 44,
   "metadata": {},
   "outputs": [
    {
     "name": "stdout",
     "output_type": "stream",
     "text": [
      "m dtype: torch.float32, located in cuda:0\n",
      "\n",
      "There was a problem:\n",
      "Expected all tensors to be on the same device, but found at least two devices, cuda:0 and cpu!\n"
     ]
    }
   ],
   "source": [
    "m = y.cuda()\n",
    "print(f'm dtype: {m.dtype}, located in {m.device}\\n')\n",
    "\n",
    "try: \n",
    "    print(x + m)\n",
    "    print(\"no problems!\")\n",
    "except Exception as e:\n",
    "    print(\"There was a problem:\")\n",
    "    print(e) \n"
   ]
  },
  {
   "cell_type": "markdown",
   "metadata": {},
   "source": [
    "## Different ways of creating tensors\n",
    "\n",
    "Sharing memory for performance: copy vs share\n",
    "\n",
    "Share data\n",
    "- **torch.as_tensor()** <- prefered\n",
    "- torch.from_numpy()\n",
    "\n",
    "Copy data\n",
    "- **torch.tensor()** <- prefered\n",
    "- torch.Tensor()"
   ]
  },
  {
   "cell_type": "code",
   "execution_count": 47,
   "metadata": {},
   "outputs": [
    {
     "name": "stdout",
     "output_type": "stream",
     "text": [
      "tensor([[1000,    2],\n",
      "        [   3,    4]], dtype=torch.int32)\n"
     ]
    }
   ],
   "source": [
    "t = np.array([[1,2],[3,4]])\n",
    "\n",
    "tensor1 = torch.as_tensor(t)\n",
    "t[0,0] = 1000\n",
    "\n",
    "print(tensor1)"
   ]
  },
  {
   "cell_type": "code",
   "execution_count": 48,
   "metadata": {},
   "outputs": [
    {
     "name": "stdout",
     "output_type": "stream",
     "text": [
      "tensor([[1, 2],\n",
      "        [3, 4]], dtype=torch.int32)\n"
     ]
    }
   ],
   "source": [
    "t = np.array([[1,2],[3,4]])\n",
    "\n",
    "tensor1 = torch.tensor(t)\n",
    "t[0,0] = 1000\n",
    "\n",
    "print(tensor1)"
   ]
  },
  {
   "cell_type": "markdown",
   "metadata": {},
   "source": [
    "## Flatten function "
   ]
  },
  {
   "cell_type": "code",
   "execution_count": 50,
   "metadata": {},
   "outputs": [
    {
     "name": "stdout",
     "output_type": "stream",
     "text": [
      "t is tensor([[1, 2],\n",
      "        [3, 4],\n",
      "        [5, 6]]), which shape is torch.Size([3, 2])\n",
      "flatten t is tensor([1, 2, 3, 4, 5, 6]), which shape is torch.Size([6])\n"
     ]
    }
   ],
   "source": [
    "def flatten(t):\n",
    "    t = t.reshape(1,-1)\n",
    "    t = t.squeeze()\n",
    "    return t\n",
    "\n",
    "t = torch.tensor([[1,2],[3,4],[5,6]])\n",
    "\n",
    "print(f't is {t}, which shape is {t.shape}')\n",
    "print(f'flatten t is {flatten(t)}, which shape is {flatten(t).shape}')"
   ]
  },
  {
   "cell_type": "markdown",
   "metadata": {},
   "source": [
    "## Flatten built in function"
   ]
  },
  {
   "cell_type": "code",
   "execution_count": 60,
   "metadata": {},
   "outputs": [
    {
     "name": "stdout",
     "output_type": "stream",
     "text": [
      "flatten t is\n",
      " tensor([[1, 2, 3, 4, 5, 6],\n",
      "        [1, 2, 3, 4, 5, 6]])\n",
      " which shape is torch.Size([2, 6])\n"
     ]
    }
   ],
   "source": [
    "t = torch.tensor([[[1,2],[3,4],[5,6]], [[1,2],[3,4],[5,6]]])\n",
    "\n",
    "t = t.flatten(start_dim=1)\n",
    "print(f'flatten t is\\n {t}\\n which shape is {t.shape}')"
   ]
  },
  {
   "cell_type": "code",
   "execution_count": null,
   "metadata": {},
   "outputs": [],
   "source": []
  },
  {
   "cell_type": "code",
   "execution_count": null,
   "metadata": {},
   "outputs": [],
   "source": []
  }
 ],
 "metadata": {
  "interpreter": {
   "hash": "88f611f6ea6cd74939d7b3949f72fcb0438a4e53f46e548f8b293cd3c259247d"
  },
  "kernelspec": {
   "display_name": "Python 3.9.10 ('venv')",
   "language": "python",
   "name": "python3"
  },
  "language_info": {
   "codemirror_mode": {
    "name": "ipython",
    "version": 3
   },
   "file_extension": ".py",
   "mimetype": "text/x-python",
   "name": "python",
   "nbconvert_exporter": "python",
   "pygments_lexer": "ipython3",
   "version": "3.9.10"
  },
  "orig_nbformat": 4
 },
 "nbformat": 4,
 "nbformat_minor": 2
}
